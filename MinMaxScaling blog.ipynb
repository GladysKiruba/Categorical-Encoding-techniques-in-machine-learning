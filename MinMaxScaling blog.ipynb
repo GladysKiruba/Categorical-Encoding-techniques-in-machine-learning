{
 "cells": [
  {
   "cell_type": "code",
   "execution_count": 1,
   "id": "f6a1dc9f",
   "metadata": {},
   "outputs": [],
   "source": [
    "# Importing libraries\n",
    "import numpy as np\n",
    "import pandas as pd"
   ]
  },
  {
   "cell_type": "code",
   "execution_count": 2,
   "id": "7e68db06",
   "metadata": {},
   "outputs": [
    {
     "data": {
      "text/html": [
       "<div>\n",
       "<style scoped>\n",
       "    .dataframe tbody tr th:only-of-type {\n",
       "        vertical-align: middle;\n",
       "    }\n",
       "\n",
       "    .dataframe tbody tr th {\n",
       "        vertical-align: top;\n",
       "    }\n",
       "\n",
       "    .dataframe thead th {\n",
       "        text-align: right;\n",
       "    }\n",
       "</style>\n",
       "<table border=\"1\" class=\"dataframe\">\n",
       "  <thead>\n",
       "    <tr style=\"text-align: right;\">\n",
       "      <th></th>\n",
       "      <th>index</th>\n",
       "      <th>Height</th>\n",
       "      <th>Weight</th>\n",
       "      <th>Age</th>\n",
       "    </tr>\n",
       "  </thead>\n",
       "  <tbody>\n",
       "    <tr>\n",
       "      <th>0</th>\n",
       "      <td>1</td>\n",
       "      <td>159</td>\n",
       "      <td>65</td>\n",
       "      <td>45</td>\n",
       "    </tr>\n",
       "    <tr>\n",
       "      <th>1</th>\n",
       "      <td>2</td>\n",
       "      <td>156</td>\n",
       "      <td>64</td>\n",
       "      <td>89</td>\n",
       "    </tr>\n",
       "    <tr>\n",
       "      <th>2</th>\n",
       "      <td>3</td>\n",
       "      <td>151</td>\n",
       "      <td>60</td>\n",
       "      <td>20</td>\n",
       "    </tr>\n",
       "    <tr>\n",
       "      <th>3</th>\n",
       "      <td>4</td>\n",
       "      <td>165</td>\n",
       "      <td>75</td>\n",
       "      <td>55</td>\n",
       "    </tr>\n",
       "    <tr>\n",
       "      <th>4</th>\n",
       "      <td>5</td>\n",
       "      <td>139</td>\n",
       "      <td>50</td>\n",
       "      <td>61</td>\n",
       "    </tr>\n",
       "  </tbody>\n",
       "</table>\n",
       "</div>"
      ],
      "text/plain": [
       "   index   Height  Weight  Age\n",
       "0       1     159      65   45\n",
       "1       2     156      64   89\n",
       "2       3     151      60   20\n",
       "3       4     165      75   55\n",
       "4       5     139      50   61"
      ]
     },
     "execution_count": 2,
     "metadata": {},
     "output_type": "execute_result"
    }
   ],
   "source": [
    "# Loading dataset\n",
    "Data=pd.read_csv(\"C:\\\\Users\\\\Shabu\\\\Desktop\\\\Height.Weight,Age.csv\")\n",
    "Data.head()"
   ]
  },
  {
   "cell_type": "code",
   "execution_count": 3,
   "id": "35ebafba",
   "metadata": {},
   "outputs": [
    {
     "data": {
      "text/plain": [
       "(20, 4)"
      ]
     },
     "execution_count": 3,
     "metadata": {},
     "output_type": "execute_result"
    }
   ],
   "source": [
    "# Shape of the dataset\n",
    "Data.shape"
   ]
  },
  {
   "cell_type": "markdown",
   "id": "7fdb2f55",
   "metadata": {},
   "source": [
    "## 2) MinMax Scaler"
   ]
  },
  {
   "cell_type": "code",
   "execution_count": 8,
   "id": "f927be32",
   "metadata": {},
   "outputs": [
    {
     "data": {
      "text/plain": [
       "array([[0.        , 0.76923077, 0.6       , 0.35211268],\n",
       "       [0.05263158, 0.65384615, 0.56      , 0.97183099],\n",
       "       [0.10526316, 0.46153846, 0.4       , 0.        ],\n",
       "       [0.15789474, 1.        , 1.        , 0.49295775],\n",
       "       [0.21052632, 0.        , 0.        , 0.57746479],\n",
       "       [0.26315789, 0.23076923, 0.2       , 0.46478873],\n",
       "       [0.31578947, 0.84615385, 0.8       , 1.        ],\n",
       "       [0.36842105, 0.34615385, 0.16      , 0.3943662 ],\n",
       "       [0.42105263, 0.76923077, 0.48      , 0.36619718],\n",
       "       [0.47368421, 0.69230769, 0.52      , 0.98591549],\n",
       "       [0.52631579, 0.61538462, 0.56      , 0.91549296],\n",
       "       [0.57894737, 0.23076923, 0.32      , 0.50704225],\n",
       "       [0.63157895, 0.03846154, 0.04      , 0.5915493 ],\n",
       "       [0.68421053, 0.42307692, 0.36      , 0.53521127],\n",
       "       [0.73684211, 0.80769231, 0.4       , 0.4084507 ],\n",
       "       [0.78947368, 0.38461538, 0.32      , 0.43661972],\n",
       "       [0.84210526, 0.76923077, 0.52      , 0.52112676],\n",
       "       [0.89473684, 0.88461538, 0.48      , 0.46478873],\n",
       "       [0.94736842, 0.73076923, 0.56      , 0.83098592],\n",
       "       [1.        , 0.26923077, 0.28      , 0.4084507 ]])"
      ]
     },
     "execution_count": 8,
     "metadata": {},
     "output_type": "execute_result"
    }
   ],
   "source": [
    "from sklearn.preprocessing import MinMaxScaler\n",
    "MMS = MinMaxScaler()\n",
    "ScaledData=MMS.fit_transform(Data)\n",
    "ScaledData"
   ]
  },
  {
   "cell_type": "code",
   "execution_count": null,
   "id": "7a7f6d37",
   "metadata": {},
   "outputs": [],
   "source": []
  }
 ],
 "metadata": {
  "kernelspec": {
   "display_name": "Python 3 (ipykernel)",
   "language": "python",
   "name": "python3"
  },
  "language_info": {
   "codemirror_mode": {
    "name": "ipython",
    "version": 3
   },
   "file_extension": ".py",
   "mimetype": "text/x-python",
   "name": "python",
   "nbconvert_exporter": "python",
   "pygments_lexer": "ipython3",
   "version": "3.9.12"
  }
 },
 "nbformat": 4,
 "nbformat_minor": 5
}
